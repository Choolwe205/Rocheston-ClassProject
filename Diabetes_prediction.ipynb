{
 "cells": [
  {
   "cell_type": "code",
   "execution_count": 1,
   "metadata": {
    "colab": {
     "base_uri": "https://localhost:8080/"
    },
    "id": "3elT1GVWvjGV",
    "outputId": "742ee3a3-3a89-484c-d797-9e225fc0c983"
   },
   "outputs": [
    {
     "name": "stdout",
     "output_type": "stream",
     "text": [
      "Requirement already satisfied: streamlit in c:\\users\\hp 15\\appdata\\local\\programs\\python\\python312\\lib\\site-packages (1.45.1)\n",
      "Requirement already satisfied: altair<6,>=4.0 in c:\\users\\hp 15\\appdata\\local\\programs\\python\\python312\\lib\\site-packages (from streamlit) (5.5.0)\n",
      "Requirement already satisfied: blinker<2,>=1.5.0 in c:\\users\\hp 15\\appdata\\local\\programs\\python\\python312\\lib\\site-packages (from streamlit) (1.9.0)\n",
      "Requirement already satisfied: cachetools<6,>=4.0 in c:\\users\\hp 15\\appdata\\local\\programs\\python\\python312\\lib\\site-packages (from streamlit) (5.5.2)\n",
      "Requirement already satisfied: click<9,>=7.0 in c:\\users\\hp 15\\appdata\\local\\programs\\python\\python312\\lib\\site-packages (from streamlit) (8.1.8)\n",
      "Requirement already satisfied: numpy<3,>=1.23 in c:\\users\\hp 15\\appdata\\local\\programs\\python\\python312\\lib\\site-packages (from streamlit) (1.26.4)\n",
      "Requirement already satisfied: packaging<25,>=20 in c:\\users\\hp 15\\appdata\\local\\programs\\python\\python312\\lib\\site-packages (from streamlit) (24.2)\n",
      "Requirement already satisfied: pandas<3,>=1.4.0 in c:\\users\\hp 15\\appdata\\local\\programs\\python\\python312\\lib\\site-packages (from streamlit) (2.3.0)\n",
      "Requirement already satisfied: pillow<12,>=7.1.0 in c:\\users\\hp 15\\appdata\\local\\programs\\python\\python312\\lib\\site-packages (from streamlit) (11.1.0)\n",
      "Requirement already satisfied: protobuf<7,>=3.20 in c:\\users\\hp 15\\appdata\\local\\programs\\python\\python312\\lib\\site-packages (from streamlit) (6.30.1)\n",
      "Requirement already satisfied: pyarrow>=7.0 in c:\\users\\hp 15\\appdata\\local\\programs\\python\\python312\\lib\\site-packages (from streamlit) (20.0.0)\n",
      "Requirement already satisfied: requests<3,>=2.27 in c:\\users\\hp 15\\appdata\\local\\programs\\python\\python312\\lib\\site-packages (from streamlit) (2.32.3)\n",
      "Requirement already satisfied: tenacity<10,>=8.1.0 in c:\\users\\hp 15\\appdata\\local\\programs\\python\\python312\\lib\\site-packages (from streamlit) (9.1.2)\n",
      "Requirement already satisfied: toml<2,>=0.10.1 in c:\\users\\hp 15\\appdata\\local\\programs\\python\\python312\\lib\\site-packages (from streamlit) (0.10.2)\n",
      "Requirement already satisfied: typing-extensions<5,>=4.4.0 in c:\\users\\hp 15\\appdata\\local\\programs\\python\\python312\\lib\\site-packages (from streamlit) (4.12.2)\n",
      "Requirement already satisfied: watchdog<7,>=2.1.5 in c:\\users\\hp 15\\appdata\\local\\programs\\python\\python312\\lib\\site-packages (from streamlit) (6.0.0)\n",
      "Requirement already satisfied: gitpython!=3.1.19,<4,>=3.0.7 in c:\\users\\hp 15\\appdata\\local\\programs\\python\\python312\\lib\\site-packages (from streamlit) (3.1.44)\n",
      "Requirement already satisfied: pydeck<1,>=0.8.0b4 in c:\\users\\hp 15\\appdata\\local\\programs\\python\\python312\\lib\\site-packages (from streamlit) (0.9.1)\n",
      "Requirement already satisfied: tornado<7,>=6.0.3 in c:\\users\\hp 15\\appdata\\local\\programs\\python\\python312\\lib\\site-packages (from streamlit) (6.5.1)\n",
      "Requirement already satisfied: jinja2 in c:\\users\\hp 15\\appdata\\local\\programs\\python\\python312\\lib\\site-packages (from altair<6,>=4.0->streamlit) (3.1.6)\n",
      "Requirement already satisfied: jsonschema>=3.0 in c:\\users\\hp 15\\appdata\\local\\programs\\python\\python312\\lib\\site-packages (from altair<6,>=4.0->streamlit) (4.23.0)\n",
      "Requirement already satisfied: narwhals>=1.14.2 in c:\\users\\hp 15\\appdata\\local\\programs\\python\\python312\\lib\\site-packages (from altair<6,>=4.0->streamlit) (1.43.0)\n",
      "Requirement already satisfied: colorama in c:\\users\\hp 15\\appdata\\local\\programs\\python\\python312\\lib\\site-packages (from click<9,>=7.0->streamlit) (0.4.6)\n",
      "Requirement already satisfied: gitdb<5,>=4.0.1 in c:\\users\\hp 15\\appdata\\local\\programs\\python\\python312\\lib\\site-packages (from gitpython!=3.1.19,<4,>=3.0.7->streamlit) (4.0.12)\n",
      "Requirement already satisfied: smmap<6,>=3.0.1 in c:\\users\\hp 15\\appdata\\local\\programs\\python\\python312\\lib\\site-packages (from gitdb<5,>=4.0.1->gitpython!=3.1.19,<4,>=3.0.7->streamlit) (5.0.2)\n",
      "Requirement already satisfied: python-dateutil>=2.8.2 in c:\\users\\hp 15\\appdata\\local\\programs\\python\\python312\\lib\\site-packages (from pandas<3,>=1.4.0->streamlit) (2.9.0.post0)\n",
      "Requirement already satisfied: pytz>=2020.1 in c:\\users\\hp 15\\appdata\\local\\programs\\python\\python312\\lib\\site-packages (from pandas<3,>=1.4.0->streamlit) (2025.2)\n",
      "Requirement already satisfied: tzdata>=2022.7 in c:\\users\\hp 15\\appdata\\local\\programs\\python\\python312\\lib\\site-packages (from pandas<3,>=1.4.0->streamlit) (2025.2)\n",
      "Requirement already satisfied: charset-normalizer<4,>=2 in c:\\users\\hp 15\\appdata\\local\\programs\\python\\python312\\lib\\site-packages (from requests<3,>=2.27->streamlit) (3.4.1)\n",
      "Requirement already satisfied: idna<4,>=2.5 in c:\\users\\hp 15\\appdata\\local\\programs\\python\\python312\\lib\\site-packages (from requests<3,>=2.27->streamlit) (3.10)\n",
      "Requirement already satisfied: urllib3<3,>=1.21.1 in c:\\users\\hp 15\\appdata\\local\\programs\\python\\python312\\lib\\site-packages (from requests<3,>=2.27->streamlit) (2.3.0)\n",
      "Requirement already satisfied: certifi>=2017.4.17 in c:\\users\\hp 15\\appdata\\local\\programs\\python\\python312\\lib\\site-packages (from requests<3,>=2.27->streamlit) (2025.1.31)\n",
      "Requirement already satisfied: MarkupSafe>=2.0 in c:\\users\\hp 15\\appdata\\local\\programs\\python\\python312\\lib\\site-packages (from jinja2->altair<6,>=4.0->streamlit) (3.0.2)\n",
      "Requirement already satisfied: attrs>=22.2.0 in c:\\users\\hp 15\\appdata\\local\\programs\\python\\python312\\lib\\site-packages (from jsonschema>=3.0->altair<6,>=4.0->streamlit) (25.3.0)\n",
      "Requirement already satisfied: jsonschema-specifications>=2023.03.6 in c:\\users\\hp 15\\appdata\\local\\programs\\python\\python312\\lib\\site-packages (from jsonschema>=3.0->altair<6,>=4.0->streamlit) (2024.10.1)\n",
      "Requirement already satisfied: referencing>=0.28.4 in c:\\users\\hp 15\\appdata\\local\\programs\\python\\python312\\lib\\site-packages (from jsonschema>=3.0->altair<6,>=4.0->streamlit) (0.36.2)\n",
      "Requirement already satisfied: rpds-py>=0.7.1 in c:\\users\\hp 15\\appdata\\local\\programs\\python\\python312\\lib\\site-packages (from jsonschema>=3.0->altair<6,>=4.0->streamlit) (0.23.1)\n",
      "Requirement already satisfied: six>=1.5 in c:\\users\\hp 15\\appdata\\local\\programs\\python\\python312\\lib\\site-packages (from python-dateutil>=2.8.2->pandas<3,>=1.4.0->streamlit) (1.17.0)\n"
     ]
    }
   ],
   "source": [
    "!pip install streamlit"
   ]
  },
  {
   "cell_type": "code",
   "execution_count": 2,
   "metadata": {
    "scrolled": true
   },
   "outputs": [
    {
     "name": "stdout",
     "output_type": "stream",
     "text": [
      "Requirement already satisfied: scikit-learn in c:\\users\\hp 15\\appdata\\local\\programs\\python\\python312\\lib\\site-packages (1.7.0)\n",
      "Requirement already satisfied: numpy>=1.22.0 in c:\\users\\hp 15\\appdata\\local\\programs\\python\\python312\\lib\\site-packages (from scikit-learn) (1.26.4)\n",
      "Requirement already satisfied: scipy>=1.8.0 in c:\\users\\hp 15\\appdata\\local\\programs\\python\\python312\\lib\\site-packages (from scikit-learn) (1.15.3)\n",
      "Requirement already satisfied: joblib>=1.2.0 in c:\\users\\hp 15\\appdata\\local\\programs\\python\\python312\\lib\\site-packages (from scikit-learn) (1.5.1)\n",
      "Requirement already satisfied: threadpoolctl>=3.1.0 in c:\\users\\hp 15\\appdata\\local\\programs\\python\\python312\\lib\\site-packages (from scikit-learn) (3.6.0)\n"
     ]
    }
   ],
   "source": [
    "!pip install scikit-learn\n"
   ]
  },
  {
   "cell_type": "code",
   "execution_count": null,
   "metadata": {},
   "outputs": [],
   "source": [
    "import sys\n",
    "import subprocess\n",
    "\n",
    "subprocess.check_call([sys.executable, \"-m\", \"pip\", \"install\", \"matplotlib\", \"seaborn\"])\n"
   ]
  },
  {
   "cell_type": "code",
   "execution_count": null,
   "metadata": {},
   "outputs": [],
   "source": [
    "!pip install matplotlib seaborn\n"
   ]
  },
  {
   "cell_type": "code",
   "execution_count": null,
   "metadata": {},
   "outputs": [],
   "source": [
    "!pip install matplotlib seaborn\n"
   ]
  },
  {
   "cell_type": "code",
   "execution_count": null,
   "metadata": {},
   "outputs": [],
   "source": [
    "import matplotlib.pyplot as plt\n",
    "import seaborn as sns\n"
   ]
  },
  {
   "cell_type": "code",
   "execution_count": null,
   "metadata": {
    "id": "JyGdBqVLROfK"
   },
   "outputs": [],
   "source": [
    "import numpy as np\n",
    "import pandas as pd\n",
    "import matplotlib.pyplot as plt\n",
    "import seaborn as sns\n",
    "from sklearn.metrics import confusion_matrix\n",
    "from sklearn.metrics import precision_score, recall_score, accuracy_score\n",
    "from sklearn.neighbors import KNeighborsClassifier\n",
    "from sklearn.svm import SVC\n",
    "from sklearn.model_selection import train_test_split\n",
    "from sklearn.linear_model import LogisticRegression\n",
    "from sklearn.metrics import accuracy_score"
   ]
  },
  {
   "cell_type": "code",
   "execution_count": null,
   "metadata": {
    "id": "y5TdbdYfZuIT"
   },
   "outputs": [],
   "source": [
    "df = pd.read_csv(\"diabetes.csv\")"
   ]
  },
  {
   "cell_type": "code",
   "execution_count": null,
   "metadata": {
    "id": "bl1wrFNeaIgZ"
   },
   "outputs": [],
   "source": [
    "dataset = pd.read_csv('diabetes.csv')"
   ]
  },
  {
   "cell_type": "code",
   "execution_count": null,
   "metadata": {
    "colab": {
     "base_uri": "https://localhost:8080/",
     "height": 226
    },
    "id": "6Uc4XfXqaoSE",
    "outputId": "1f05f6ec-470a-45f8-b992-2e2253d6b774"
   },
   "outputs": [],
   "source": [
    "dataset.head()"
   ]
  },
  {
   "cell_type": "code",
   "execution_count": null,
   "metadata": {
    "colab": {
     "base_uri": "https://localhost:8080/"
    },
    "id": "alBJSo1qaUXt",
    "outputId": "c047b5b0-33e7-446f-888d-43ed8c541048"
   },
   "outputs": [],
   "source": [
    "dataset.shape"
   ]
  },
  {
   "cell_type": "markdown",
   "metadata": {
    "id": "c1v3fNx4bGpE"
   },
   "source": [
    "#Dataset info\n"
   ]
  },
  {
   "cell_type": "code",
   "execution_count": null,
   "metadata": {
    "colab": {
     "base_uri": "https://localhost:8080/"
    },
    "id": "XOHzRib4a0le",
    "outputId": "b9d7e433-a184-46c3-d09c-e6ff55266092"
   },
   "outputs": [],
   "source": [
    "dataset.info()"
   ]
  },
  {
   "cell_type": "code",
   "execution_count": null,
   "metadata": {
    "colab": {
     "base_uri": "https://localhost:8080/",
     "height": 351
    },
    "id": "DxheTAM7bBuI",
    "outputId": "d4892643-c88d-4f5d-c085-6332d05ebb5b"
   },
   "outputs": [],
   "source": [
    "dataset.describe().T"
   ]
  },
  {
   "cell_type": "markdown",
   "metadata": {
    "id": "AXNUnwbScrWg"
   },
   "source": [
    "# **Count Null Values**"
   ]
  },
  {
   "cell_type": "code",
   "execution_count": null,
   "metadata": {
    "colab": {
     "base_uri": "https://localhost:8080/"
    },
    "id": "7_PGoib8bfNZ",
    "outputId": "a61b1151-f2f8-492c-9ad9-aaf3d2dcbf80"
   },
   "outputs": [],
   "source": [
    "dataset.isnull().sum()"
   ]
  },
  {
   "cell_type": "markdown",
   "metadata": {
    "id": "W7tFWm-tdIto"
   },
   "source": [
    "# Data Visualization\n"
   ]
  },
  {
   "cell_type": "code",
   "execution_count": null,
   "metadata": {
    "colab": {
     "base_uri": "https://localhost:8080/",
     "height": 467
    },
    "id": "10QD9GendGAe",
    "outputId": "aeb512bb-c13c-49b5-f940-d5c8a2cc4a04"
   },
   "outputs": [],
   "source": [
    "sns.countplot(x= 'Outcome', data=dataset)"
   ]
  },
  {
   "cell_type": "markdown",
   "metadata": {
    "id": "un1GdgV3dlbb"
   },
   "source": [
    "# Histogram View"
   ]
  },
  {
   "cell_type": "code",
   "execution_count": null,
   "metadata": {
    "colab": {
     "base_uri": "https://localhost:8080/",
     "height": 606
    },
    "id": "l7k6tO4sdqHb",
    "outputId": "45837532-26e0-4255-8b44-5fc0b0ebdf00"
   },
   "outputs": [],
   "source": [
    "import itertools\n",
    "\n",
    "col = dataset.columns[:8]\n",
    "plt.figure(figsize=(20, 15))\n",
    "length = len(col)\n",
    "\n",
    "for i, j in itertools.zip_longest(col, range(length)):\n",
    "    plt.subplot((length // 2) + (length % 2), 2, j + 1)\n",
    "    plt.subplots_adjust(wspace=0.2, hspace=0.5)\n",
    "    dataset[i].hist(bins=20)\n",
    "    plt.title(i)\n",
    "\n",
    "plt.show()"
   ]
  },
  {
   "cell_type": "markdown",
   "metadata": {
    "id": "FNdGZ6WjgmjH"
   },
   "source": [
    "# Pair plot of dataset"
   ]
  },
  {
   "cell_type": "code",
   "execution_count": null,
   "metadata": {
    "colab": {
     "base_uri": "https://localhost:8080/",
     "height": 757
    },
    "id": "qPatrQjHguRG",
    "outputId": "cbff1b5e-cdbe-497a-8b22-4a66f459d519"
   },
   "outputs": [],
   "source": [
    "sns.pairplot(data = dataset, hue = 'Outcome')\n",
    "plt.show()"
   ]
  },
  {
   "cell_type": "markdown",
   "metadata": {
    "id": "iwuAWHOuhNHt"
   },
   "source": [
    "# Heatmap of Dataset"
   ]
  },
  {
   "cell_type": "code",
   "execution_count": null,
   "metadata": {
    "colab": {
     "base_uri": "https://localhost:8080/",
     "height": 603
    },
    "id": "nQHIps_6hUUd",
    "outputId": "ce5723e9-9ecf-4288-cc9c-ce71ecd2cd7f"
   },
   "outputs": [],
   "source": [
    "sns.heatmap(dataset.corr(), annot = True)\n",
    "plt.show()"
   ]
  },
  {
   "cell_type": "markdown",
   "metadata": {
    "id": "YAMMkkp6hmiY"
   },
   "source": [
    "# Data Processing"
   ]
  },
  {
   "cell_type": "code",
   "execution_count": null,
   "metadata": {
    "id": "94FVEyTAhrsO"
   },
   "outputs": [],
   "source": [
    "dataset_new = dataset"
   ]
  },
  {
   "cell_type": "code",
   "execution_count": null,
   "metadata": {
    "id": "4p37tESFhw7D"
   },
   "outputs": [],
   "source": [
    "dataset_new[[\"Glucose\", \"BloodPressure\", \"SkinThickness\", \"Insulin\", \"BMI\"]] = dataset_new[[\"Glucose\", \"BloodPressure\", \"SkinThickness\", \"Insulin\", \"BMI\"]].replace(0, np.nan)"
   ]
  },
  {
   "cell_type": "code",
   "execution_count": null,
   "metadata": {
    "colab": {
     "base_uri": "https://localhost:8080/"
    },
    "id": "-s31K5qviSh0",
    "outputId": "b5dbad7b-5eba-4719-a939-266a523a9dd4"
   },
   "outputs": [],
   "source": [
    "dataset_new.isnull().sum()"
   ]
  },
  {
   "cell_type": "markdown",
   "metadata": {
    "id": "Z8SXkItLlCNu"
   },
   "source": [
    "#Replacing NaN with mean values"
   ]
  },
  {
   "cell_type": "code",
   "execution_count": null,
   "metadata": {
    "id": "1eavyXJQjO3h"
   },
   "outputs": [],
   "source": [
    "dataset_new[\"Glucose\"].fillna(dataset_new[\"Glucose\"].mean(), inplace = True)\n",
    "dataset_new[\"BloodPressure\"].fillna(dataset_new[\"BloodPressure\"].mean(), inplace = True)\n",
    "dataset_new[\"SkinThickness\"].fillna(dataset_new[\"SkinThickness\"].mean(), inplace = True)\n",
    "dataset_new[\"Insulin\"].fillna(dataset_new[\"Insulin\"].mean(), inplace = True)\n",
    "dataset_new[\"BMI\"].fillna(dataset_new[\"BMI\"].mean(), inplace = True)"
   ]
  },
  {
   "cell_type": "markdown",
   "metadata": {
    "id": "6HRdJadEmHT2"
   },
   "source": [
    "# Statistical summary"
   ]
  },
  {
   "cell_type": "code",
   "execution_count": null,
   "metadata": {
    "colab": {
     "base_uri": "https://localhost:8080/",
     "height": 351
    },
    "id": "UjKjpwQbmNNY",
    "outputId": "54f55aab-1ce6-4dd2-944c-55b459526e75"
   },
   "outputs": [],
   "source": [
    "dataset_new.describe().T"
   ]
  },
  {
   "cell_type": "markdown",
   "metadata": {
    "id": "ZHkv-jU9md5k"
   },
   "source": [
    "# Feature scalling using min max scaller"
   ]
  },
  {
   "cell_type": "code",
   "execution_count": null,
   "metadata": {
    "id": "vSbL2f5Gmi38"
   },
   "outputs": [],
   "source": [
    "from sklearn.preprocessing import MinMaxScaler\n",
    "sc = MinMaxScaler(feature_range = (0,1))\n",
    "dataset_scaled = sc.fit_transform(dataset_new)"
   ]
  },
  {
   "cell_type": "code",
   "execution_count": null,
   "metadata": {
    "id": "iZmBvrx_nCEx"
   },
   "outputs": [],
   "source": [
    "dataset_scaled = pd.DataFrame(dataset_scaled)"
   ]
  },
  {
   "cell_type": "markdown",
   "metadata": {
    "id": "uzjlu3vMnT5O"
   },
   "source": [
    "# Selecting Features"
   ]
  },
  {
   "cell_type": "code",
   "execution_count": null,
   "metadata": {
    "id": "7RxP2WaenazC"
   },
   "outputs": [],
   "source": [
    "X = dataset_scaled.iloc[:,[1, 4, 5, 7]].values\n",
    "Y = dataset_scaled.iloc[:, 8].values"
   ]
  },
  {
   "cell_type": "markdown",
   "metadata": {
    "id": "ryfAgiHLoBSD"
   },
   "source": [
    "# Splitting X and Y"
   ]
  },
  {
   "cell_type": "code",
   "execution_count": null,
   "metadata": {
    "id": "iCvt4VQzoGcd"
   },
   "outputs": [],
   "source": [
    "from sklearn.model_selection import train_test_split\n",
    "X_train, X_test, Y_train, Y_test = train_test_split(X, Y, test_size = 0.20, random_state = 42, stratify = dataset_new['Outcome'])"
   ]
  },
  {
   "cell_type": "markdown",
   "metadata": {
    "id": "XwWwDejBpJiw"
   },
   "source": [
    "# Checking Dimensions"
   ]
  },
  {
   "cell_type": "code",
   "execution_count": null,
   "metadata": {
    "colab": {
     "base_uri": "https://localhost:8080/"
    },
    "id": "zOgg32eUpNbi",
    "outputId": "3ca93236-4028-4618-b463-f13cdc87d04c"
   },
   "outputs": [],
   "source": [
    "print(\"X_train shape:\", X_train.shape)\n",
    "print(\"X_test shape:\", X_test.shape)\n",
    "print(\"Y_train shape:\", Y_train.shape)\n",
    "print(\"X_test shape:\", X_test.shape)"
   ]
  },
  {
   "cell_type": "markdown",
   "metadata": {
    "id": "mu_N7UO4pxBv"
   },
   "source": [
    "# Data Modelling"
   ]
  },
  {
   "cell_type": "markdown",
   "metadata": {
    "id": "6keatnbmqILD"
   },
   "source": [
    "# Logistic Regression"
   ]
  },
  {
   "cell_type": "code",
   "execution_count": null,
   "metadata": {
    "colab": {
     "base_uri": "https://localhost:8080/",
     "height": 74
    },
    "id": "F4fW2nKdp034",
    "outputId": "5865309e-c83d-4b87-d725-b2cc9eb5816d"
   },
   "outputs": [],
   "source": [
    "from sklearn.linear_model import LogisticRegression\n",
    "lr = LogisticRegression(random_state = 42)\n",
    "lr.fit(X_train, Y_train)\n",
    "LogisticRegression(random_state=42)"
   ]
  },
  {
   "cell_type": "markdown",
   "metadata": {
    "id": "Gs2BRLM9q7F1"
   },
   "source": [
    "# Predicting the model"
   ]
  },
  {
   "cell_type": "code",
   "execution_count": null,
   "metadata": {
    "colab": {
     "base_uri": "https://localhost:8080/"
    },
    "id": "M0h-_UUbiXsU",
    "outputId": "ec44969c-7070-485a-e494-6beef056ed72"
   },
   "outputs": [],
   "source": [
    "training_accuracy = lr.score(X_train, Y_train)\n",
    "print(\"Training Accuracy of Logistic Regression:\", training_accuracy)"
   ]
  },
  {
   "cell_type": "code",
   "execution_count": null,
   "metadata": {
    "id": "8BGvqc3Uq_xA"
   },
   "outputs": [],
   "source": [
    "Y_pred_lr = lr.predict(X_test)"
   ]
  },
  {
   "cell_type": "markdown",
   "metadata": {
    "id": "jHuJ4oOlrSt0"
   },
   "source": [
    "# Classification Report"
   ]
  },
  {
   "cell_type": "code",
   "execution_count": null,
   "metadata": {
    "colab": {
     "base_uri": "https://localhost:8080/"
    },
    "id": "mzY7iPSVrYcf",
    "outputId": "e5a6f972-98ae-4a41-fd2e-add11113db5c"
   },
   "outputs": [],
   "source": [
    "from sklearn.metrics import classification_report\n",
    "print(classification_report(Y_test,Y_pred_lr))"
   ]
  },
  {
   "cell_type": "code",
   "execution_count": null,
   "metadata": {
    "colab": {
     "base_uri": "https://localhost:8080/"
    },
    "id": "JDCSOOmxtWog",
    "outputId": "a4a77f0b-86bb-4df0-acc0-938c8511aae7"
   },
   "outputs": [],
   "source": [
    "from sklearn.metrics import f1_score\n",
    "score_lr = round(accuracy_score(Y_test, Y_pred_lr)*100,2)\n",
    "print(\"The accuracy score achieved using Logistic Regression is: \"+str(score_lr)+\" %\")\n",
    "print('Precision: %.3f' % precision_score(Y_pred_lr, Y_test))\n",
    "print('Reacll: %.3f' % recall_score(Y_test, Y_pred_lr))\n",
    "print('F1 Score: %.3f' % f1_score(Y_test, Y_pred_lr))"
   ]
  },
  {
   "cell_type": "markdown",
   "metadata": {
    "id": "yU7yaunfwTNf"
   },
   "source": [
    "Confusion Matrix"
   ]
  },
  {
   "cell_type": "code",
   "execution_count": null,
   "metadata": {
    "colab": {
     "base_uri": "https://localhost:8080/"
    },
    "id": "oVPxOWx6wWAi",
    "outputId": "fd547c1c-306d-4141-ce92-e7e8a729719f"
   },
   "outputs": [],
   "source": [
    "# prompt: Print confusion matrix from the given data after importing it from sklearn.matrics\n",
    "\n",
    "from sklearn.metrics import confusion_matrix\n",
    "\n",
    "cm = confusion_matrix(Y_test, Y_pred_lr)\n",
    "print(cm)\n"
   ]
  },
  {
   "cell_type": "markdown",
   "metadata": {
    "id": "8XPyj64awzxi"
   },
   "source": [
    "# Heatmap of CM"
   ]
  },
  {
   "cell_type": "code",
   "execution_count": null,
   "metadata": {
    "colab": {
     "base_uri": "https://localhost:8080/",
     "height": 448
    },
    "id": "xskKXPSmxJVt",
    "outputId": "d2b73e28-838f-46d9-c352-6d6182c1e2c6"
   },
   "outputs": [],
   "source": [
    "sns.heatmap(pd.DataFrame(cm), annot=True)"
   ]
  },
  {
   "cell_type": "markdown",
   "metadata": {
    "id": "IybFm0mmxVZ-"
   },
   "source": [
    "# Plotting a graph for n_neighbors\n"
   ]
  },
  {
   "cell_type": "code",
   "execution_count": null,
   "metadata": {
    "colab": {
     "base_uri": "https://localhost:8080/",
     "height": 490
    },
    "id": "lLduExaFk7xp",
    "outputId": "f3e8d0bb-3857-4177-9ec1-d93bc4399d88"
   },
   "outputs": [],
   "source": [
    "from sklearn import metrics\n",
    "from sklearn.neighbors import KNeighborsClassifier\n",
    "\n",
    "X_axis = list(range(1, 31))\n",
    "acc = pd.Series()\n",
    "x=range(1,31)\n",
    "\n",
    "for i in list(range(1, 31)):\n",
    "  knn_model = KNeighborsClassifier(n_neighbors = i)\n",
    "  knn_model.fit(X_train, Y_train)\n",
    "  prediction = knn_model.predict(X_test)\n",
    "  acc = pd.concat([acc, pd.Series(metrics.accuracy_score(prediction, Y_test))])\n",
    "plt.plot(X_axis, acc)\n",
    "plt.xticks(x)\n",
    "plt.title(\"Finding best value for n_estimators\")\n",
    "plt.xlabel(\"n_estimators\")\n",
    "plt.ylabel(\"Accuracy\")\n",
    "plt.grid()\n",
    "plt.show()\n",
    "print('Highest value: ',acc.values.max())"
   ]
  },
  {
   "cell_type": "markdown",
   "metadata": {
    "id": "KRKjog9ApLhq"
   },
   "source": [
    "# K nearest neighbors Algo"
   ]
  },
  {
   "cell_type": "code",
   "execution_count": null,
   "metadata": {
    "id": "gJ8ZWOM4pRIi"
   },
   "outputs": [],
   "source": [
    "from sklearn.neighbors import KNeighborsClassifier\n",
    "knn = KNeighborsClassifier(n_neighbors = 24, metric = 'minkowski', p = 2)"
   ]
  },
  {
   "cell_type": "markdown",
   "metadata": {
    "id": "cWWu3LOvp4SF"
   },
   "source": [
    "# predicting KNN model"
   ]
  },
  {
   "cell_type": "code",
   "execution_count": null,
   "metadata": {
    "id": "f_tuiqvrp887"
   },
   "outputs": [],
   "source": [
    "knn.fit(X_train, Y_train)\n",
    "Y_pred_knn=knn.predict(X_test)\n",
    "score_knn = round(accuracy_score(Y_test, Y_pred_knn)*100, 2)"
   ]
  },
  {
   "cell_type": "code",
   "execution_count": null,
   "metadata": {
    "colab": {
     "base_uri": "https://localhost:8080/"
    },
    "id": "4hxfBxFrrc39",
    "outputId": "018e23af-a69f-454b-daef-7aa9fa8692df"
   },
   "outputs": [],
   "source": [
    "print(\"The accuracy score achieved using KNN is: \"+str(score_knn)+\" %\")\n",
    "print('Precision: %.3f' % precision_score(Y_test, Y_pred_knn))\n",
    "print('Recall: %.3f' % recall_score(Y_test, Y_pred_knn))\n",
    "print('F1 score: %.3f' % f1_score(Y_test, Y_pred_knn))"
   ]
  },
  {
   "cell_type": "code",
   "execution_count": null,
   "metadata": {
    "colab": {
     "base_uri": "https://localhost:8080/"
    },
    "id": "PV1kJeXZsR5B",
    "outputId": "8c08fcfc-c87c-4420-e308-305756e6a7f8"
   },
   "outputs": [],
   "source": [
    "print(classification_report(Y_test, Y_pred_knn))"
   ]
  },
  {
   "cell_type": "markdown",
   "metadata": {
    "id": "39UpODyTssJs"
   },
   "source": [
    "# CM of knn"
   ]
  },
  {
   "cell_type": "code",
   "execution_count": null,
   "metadata": {
    "colab": {
     "base_uri": "https://localhost:8080/"
    },
    "id": "Y6qh5FhSsqdM",
    "outputId": "01a49ac5-7bc4-4356-cc38-d2915ec0992b"
   },
   "outputs": [],
   "source": [
    "from sklearn.metrics import confusion_matrix\n",
    "cm = confusion_matrix(Y_test, Y_pred_knn)\n",
    "print(cm)"
   ]
  },
  {
   "cell_type": "code",
   "execution_count": null,
   "metadata": {
    "colab": {
     "base_uri": "https://localhost:8080/",
     "height": 448
    },
    "id": "be0daNSatCu5",
    "outputId": "afaa84fb-4bd8-4f29-92f6-0d814530eb86"
   },
   "outputs": [],
   "source": [
    "sns.heatmap(pd.DataFrame(cm), annot=True)"
   ]
  },
  {
   "cell_type": "markdown",
   "metadata": {
    "id": "_yZPllI4uYSu"
   },
   "source": [
    "# SVC Algo"
   ]
  },
  {
   "cell_type": "code",
   "execution_count": null,
   "metadata": {
    "colab": {
     "base_uri": "https://localhost:8080/"
    },
    "id": "FDibl-41ucUm",
    "outputId": "e3a41e48-200c-4df1-d546-943979893f1b"
   },
   "outputs": [],
   "source": [
    "svc_linear=SVC(kernel='linear')\n",
    "svc_linear.fit(X_train, Y_train)\n",
    "Y_pred_svc_linear = svc_linear.predict(X_test)\n",
    "score_svc_linear = round(accuracy_score(Y_test, Y_pred_svc_linear)*100,2)\n",
    "print(\"The accuracy score Achieved using Linear SVC is: \"+str(score_svc_linear)+\" %\")"
   ]
  },
  {
   "cell_type": "code",
   "execution_count": null,
   "metadata": {
    "colab": {
     "base_uri": "https://localhost:8080/"
    },
    "id": "k1Lu3dILvrXm",
    "outputId": "05009f50-456c-46f5-8173-d521eede9179"
   },
   "outputs": [],
   "source": [
    "print('Precision: %.3f' % precision_score(Y_test, Y_pred_svc_linear))\n",
    "print('Recall: %.3f' % recall_score(Y_test, Y_pred_svc_linear))\n",
    "print('F1 score: %.3f' % f1_score(Y_test, Y_pred_svc_linear))"
   ]
  },
  {
   "cell_type": "code",
   "execution_count": null,
   "metadata": {
    "colab": {
     "base_uri": "https://localhost:8080/"
    },
    "id": "nA7db8iFv9-6",
    "outputId": "dea18ac8-7f76-4fce-c3e3-19cc8bb01f71"
   },
   "outputs": [],
   "source": [
    "print(classification_report(Y_test, Y_pred_svc_linear))"
   ]
  },
  {
   "cell_type": "markdown",
   "metadata": {
    "id": "BPqxcp7bxb8u"
   },
   "source": [
    "# Building SVC kernel = Polynomial"
   ]
  },
  {
   "cell_type": "code",
   "execution_count": null,
   "metadata": {
    "id": "LC7DfvUvxlB9"
   },
   "outputs": [],
   "source": [
    "svc_poly = SVC(kernel='poly')\n",
    "svc_poly.fit(X_train, Y_train)\n",
    "Y_pred_svc_poly = svc_poly.predict(X_test)"
   ]
  },
  {
   "cell_type": "code",
   "execution_count": null,
   "metadata": {
    "colab": {
     "base_uri": "https://localhost:8080/"
    },
    "id": "eOF5UribxP2e",
    "outputId": "12b0bbe5-7aec-47f6-8d4a-4d7823475bb5"
   },
   "outputs": [],
   "source": [
    "score_svc_poly = round(accuracy_score(Y_test, Y_pred_svc_poly)*100,2)\n",
    "print(\"The accuracy score Achieved using Linear SVM is: \"+str(score_svc_poly)+\" %\")"
   ]
  },
  {
   "cell_type": "code",
   "execution_count": null,
   "metadata": {
    "colab": {
     "base_uri": "https://localhost:8080/"
    },
    "id": "1Hd2siF8xdta",
    "outputId": "c7dd52ff-5c58-4585-f700-98250972c715"
   },
   "outputs": [],
   "source": [
    "print('Precision: %.3f' % precision_score(Y_test, Y_pred_svc_poly))\n",
    "print('Recall: %.3f' % recall_score(Y_test, Y_pred_svc_poly))\n",
    "print('F1 score: %.3f' % f1_score(Y_test, Y_pred_svc_poly))"
   ]
  },
  {
   "cell_type": "code",
   "execution_count": null,
   "metadata": {
    "colab": {
     "base_uri": "https://localhost:8080/"
    },
    "id": "XnHMqBaNxsgC",
    "outputId": "897eb6db-3a1f-470a-f1e9-8e22f099958b"
   },
   "outputs": [],
   "source": [
    "print(classification_report(Y_test, Y_pred_svc_poly))"
   ]
  },
  {
   "cell_type": "markdown",
   "metadata": {
    "id": "_6KWk7k0xzjj"
   },
   "source": [
    "# Building the SVC kernel=Gaussian"
   ]
  },
  {
   "cell_type": "code",
   "execution_count": null,
   "metadata": {
    "id": "SmGXzEsjx7o2"
   },
   "outputs": [],
   "source": [
    "svc_gauss = SVC(kernel='rbf')\n",
    "svc_gauss.fit(X_train, Y_train)\n",
    "Y_pred_svc_gauss = svc_gauss.predict(X_test)"
   ]
  },
  {
   "cell_type": "code",
   "execution_count": null,
   "metadata": {
    "colab": {
     "base_uri": "https://localhost:8080/"
    },
    "id": "wuPg17MfyJ48",
    "outputId": "865d5f25-f3df-47e2-d21f-79645601f4e5"
   },
   "outputs": [],
   "source": [
    "score_svc_gauss = round(accuracy_score(Y_test, Y_pred_svc_gauss)*100,2)\n",
    "print(\"The accuracy score Achieved using Gaussian SVM is: \"+str(score_svc_gauss)+\" %\")"
   ]
  },
  {
   "cell_type": "code",
   "execution_count": null,
   "metadata": {
    "colab": {
     "base_uri": "https://localhost:8080/"
    },
    "id": "jumye9AvyXgj",
    "outputId": "ab426419-4259-48c1-c948-5b4fc757353a"
   },
   "outputs": [],
   "source": [
    "print ('Precision: %.3f' % precision_score(Y_test, Y_pred_svc_gauss))\n",
    "print ('Recall: %.3f' % recall_score(Y_test, Y_pred_svc_gauss))\n",
    "print ('F1 score: %.3f' % f1_score(Y_test, Y_pred_svc_gauss))"
   ]
  },
  {
   "cell_type": "code",
   "execution_count": null,
   "metadata": {
    "colab": {
     "base_uri": "https://localhost:8080/"
    },
    "id": "005Eztkoylby",
    "outputId": "592d6307-993b-47ea-f88e-0da7fab7e508"
   },
   "outputs": [],
   "source": [
    "print(classification_report(Y_test, Y_pred_svc_gauss))"
   ]
  },
  {
   "cell_type": "markdown",
   "metadata": {
    "id": "kyH6_xIwy6qd"
   },
   "source": [
    "# SVC kernel = Sigmoid"
   ]
  },
  {
   "cell_type": "code",
   "execution_count": null,
   "metadata": {
    "colab": {
     "base_uri": "https://localhost:8080/"
    },
    "id": "MKPjNG13zBEr",
    "outputId": "9a489a6e-9dd6-4621-b354-e9066939c1f6"
   },
   "outputs": [],
   "source": [
    "svc_sigmoid = SVC(kernel='sigmoid')\n",
    "svc_sigmoid.fit(X_train, Y_train)\n",
    "Y_pred_svc_sigmoid = svc_sigmoid.predict(X_test)\n",
    "score_svc_sigmoid = round(accuracy_score(Y_test, Y_pred_svc_sigmoid)*100,2)\n",
    "print(\"The accuracy score Achieved using Sigmoid SVM is: \"+str(score_svc_sigmoid)+\" %\")"
   ]
  },
  {
   "cell_type": "code",
   "execution_count": null,
   "metadata": {
    "colab": {
     "base_uri": "https://localhost:8080/"
    },
    "id": "JOvh6YsFzQmp",
    "outputId": "53f8f046-06f5-4b87-e03e-61174dd867f4"
   },
   "outputs": [],
   "source": [
    "print(classification_report(Y_test, Y_pred_svc_sigmoid))"
   ]
  },
  {
   "cell_type": "code",
   "execution_count": null,
   "metadata": {
    "id": "sFQTzptmzZU1"
   },
   "outputs": [],
   "source": [
    "accuracy = {'svc_polynomial' : score_svc_poly, 'svc_linear' : score_svc_linear, 'svc_gaussian' : score_svc_gauss, 'svc_sigmoid' : score_svc_sigmoid}"
   ]
  },
  {
   "cell_type": "code",
   "execution_count": null,
   "metadata": {
    "colab": {
     "base_uri": "https://localhost:8080/",
     "height": 451
    },
    "id": "9IVVSbP6zstu",
    "outputId": "e285b7f4-674b-4872-ef0c-3997eccb6741"
   },
   "outputs": [],
   "source": [
    "model = list(accuracy.keys())\n",
    "values = list(accuracy.values())\n",
    "fig = plt.figure(figsize = (10, 5))\n",
    "plt.bar(model, values,width = 0.4)\n",
    "plt.xlabel(\"Models\")\n",
    "plt.ylabel(\"Accuracy\")\n",
    "plt.title(\"Accuracy of different models\")\n",
    "plt.show()"
   ]
  },
  {
   "cell_type": "markdown",
   "metadata": {
    "id": "EVK5JD8i0plG"
   },
   "source": [
    "# Random Forest Algo"
   ]
  },
  {
   "cell_type": "code",
   "execution_count": null,
   "metadata": {
    "colab": {
     "base_uri": "https://localhost:8080/",
     "height": 74
    },
    "id": "h0fKBGpK0m_e",
    "outputId": "da2cadae-f650-4264-c139-31982cd9e46f"
   },
   "outputs": [],
   "source": [
    "from sklearn.ensemble import RandomForestClassifier\n",
    "rf = RandomForestClassifier(n_estimators=100, criterion='entropy', random_state=42)\n",
    "rf.fit(X_train, Y_train)"
   ]
  },
  {
   "cell_type": "code",
   "execution_count": null,
   "metadata": {
    "colab": {
     "base_uri": "https://localhost:8080/"
    },
    "id": "qsvjh6ZO2KvV",
    "outputId": "7823474d-8c0f-4bec-9546-021c4afeace0"
   },
   "outputs": [],
   "source": [
    "Y_pred_rf = rf.predict(X_test)\n",
    "score_rf = round(accuracy_score(Y_test, Y_pred_rf)*100,2)\n",
    "print(\"The accuracy score Achieved using Random Forest is: \"+str(score_rf)+\" %\")"
   ]
  },
  {
   "cell_type": "code",
   "execution_count": null,
   "metadata": {
    "colab": {
     "base_uri": "https://localhost:8080/"
    },
    "id": "TvduKo0T23fN",
    "outputId": "8aebfa2b-75cd-46f2-eeb1-b4ea7093316c"
   },
   "outputs": [],
   "source": [
    "print(classification_report(Y_test, Y_pred_rf))"
   ]
  },
  {
   "cell_type": "markdown",
   "metadata": {
    "id": "i94jyG2h3OcJ"
   },
   "source": [
    "# Decision Tree Algo"
   ]
  },
  {
   "cell_type": "code",
   "execution_count": null,
   "metadata": {
    "colab": {
     "base_uri": "https://localhost:8080/",
     "height": 74
    },
    "id": "PFWqXtlQ3R66",
    "outputId": "3f9b2baf-a61f-4cd2-93c0-a14a5109cacc"
   },
   "outputs": [],
   "source": [
    "from sklearn.tree import DecisionTreeClassifier\n",
    "dt = DecisionTreeClassifier(criterion='entropy', random_state=42)\n",
    "dt.fit(X_train, Y_train)"
   ]
  },
  {
   "cell_type": "code",
   "execution_count": null,
   "metadata": {
    "colab": {
     "base_uri": "https://localhost:8080/"
    },
    "id": "at_sFY9T3hJk",
    "outputId": "470fb3a5-42fb-4fbe-f095-f3281fc1e1e8"
   },
   "outputs": [],
   "source": [
    "Y_pred_dt = dt.predict(X_test)\n",
    "score_dt = round(accuracy_score(Y_test, Y_pred_dt)*100,2)\n",
    "print(\"The accuracy score Achieved using Decision Tree is: \"+str(score_dt)+\" %\")"
   ]
  },
  {
   "cell_type": "markdown",
   "metadata": {
    "id": "DJgcVn1q7biL"
   },
   "source": [
    "# ***Graph for Different Algo***"
   ]
  },
  {
   "cell_type": "code",
   "execution_count": null,
   "metadata": {
    "id": "x6VfFwxF33aJ"
   },
   "outputs": [],
   "source": [
    "accuracy_scores = [score_lr, score_knn, score_rf, score_dt]\n",
    "algorithms = ['Logistic Regression', 'KNN', 'Random Forest', 'Decision Tree']"
   ]
  },
  {
   "cell_type": "code",
   "execution_count": null,
   "metadata": {
    "colab": {
     "base_uri": "https://localhost:8080/",
     "height": 480
    },
    "id": "0XARDfp-7RSe",
    "outputId": "dff94650-9f6e-40c2-91e4-1c6b1925c227"
   },
   "outputs": [],
   "source": [
    "plt.figure(figsize=(10, 6))\n",
    "plt.bar(algorithms, accuracy_scores, color='skyblue')\n",
    "plt.xlabel('Algorithms')\n",
    "plt.ylabel('Accuracy Score (%)')\n",
    "plt.title('Accuracy Scores of Different Algorithms')\n",
    "plt.ylim(0, 100)  # Set y-axis limits from 0 to 100\n",
    "for i, score in enumerate(accuracy_scores):\n",
    "    plt.text(i, score + 2, f'{score}%', ha='center', va='bottom')\n",
    "plt.tight_layout()\n",
    "plt.show()"
   ]
  },
  {
   "cell_type": "markdown",
   "metadata": {
    "id": "RPrZOGhl77bN"
   },
   "source": [
    "# Storing Model in pickle"
   ]
  },
  {
   "cell_type": "code",
   "execution_count": null,
   "metadata": {
    "id": "TFyzP7dV8GkS"
   },
   "outputs": [],
   "source": [
    "import pickle"
   ]
  },
  {
   "cell_type": "code",
   "execution_count": null,
   "metadata": {
    "id": "cq-JVY8I8Kn2"
   },
   "outputs": [],
   "source": [
    "pickle.dump(knn, open('Diabetesmodel.pkl', 'wb'))"
   ]
  },
  {
   "cell_type": "code",
   "execution_count": null,
   "metadata": {
    "id": "ms5mFETS8W6N"
   },
   "outputs": [],
   "source": [
    "loaded_model = pickle.load(open('Diabetesmodel.pkl', 'rb'))"
   ]
  },
  {
   "cell_type": "markdown",
   "metadata": {
    "id": "fdMIS71K82BC"
   },
   "source": [
    "# Prediction By taking Input from user"
   ]
  },
  {
   "cell_type": "code",
   "execution_count": null,
   "metadata": {
    "colab": {
     "base_uri": "https://localhost:8080/"
    },
    "id": "HF2eJzZi-HRx",
    "outputId": "ebdb08cf-d2bc-4c6e-8959-a98b1a1300be"
   },
   "outputs": [],
   "source": [
    "input_data1 = (137,138,43,33)\n",
    "input_data1_as_numpy_array = np.asarray(input_data1)\n",
    "input_reshape1 = input_data1_as_numpy_array.reshape(1,-1)\n",
    "prediction = loaded_model.predict(input_reshape1)\n",
    "print(prediction)"
   ]
  },
  {
   "cell_type": "code",
   "execution_count": null,
   "metadata": {
    "colab": {
     "base_uri": "https://localhost:8080/"
    },
    "id": "eJ6zO6IR_UU5",
    "outputId": "fe78a51e-bf5d-4e8a-ad71-2e3d7bb9246e"
   },
   "outputs": [],
   "source": [
    "if (prediction[0] == 0):\n",
    "  print('The person is not diabetic')\n",
    "else:\n",
    "  print('The person is diabetic')"
   ]
  },
  {
   "cell_type": "code",
   "execution_count": null,
   "metadata": {
    "colab": {
     "base_uri": "https://localhost:8080/"
    },
    "id": "raNkQikWvsfD",
    "outputId": "c1b64ba8-a4ff-45ff-c595-9a139e0d9d11"
   },
   "outputs": [],
   "source": [
    "%%writefile DIABETIC.py\n",
    "\n",
    "! wget -q -O - ipv4.icanhazip.com\n",
    "\n",
    "! streamlit run DIABETIC.py & npx localtunnel --port 8501"
   ]
  },
  {
   "cell_type": "code",
   "execution_count": null,
   "metadata": {
    "colab": {
     "base_uri": "https://localhost:8080/"
    },
    "id": "zsfIWLq_yX24",
    "outputId": "bfeba1a0-e8fe-4783-897e-edf9ede87201"
   },
   "outputs": [],
   "source": [
    "! wget -q -O - ipv4.icanhazip.com"
   ]
  },
  {
   "cell_type": "code",
   "execution_count": null,
   "metadata": {
    "colab": {
     "background_save": true,
     "base_uri": "https://localhost:8080/"
    },
    "id": "omyHdEvAycvn",
    "outputId": "19a912ab-4e49-415b-c3f4-9c587611ddbc"
   },
   "outputs": [],
   "source": [
    "! streamlit run DIABETIC.py & npx localtunnel --port 8501"
   ]
  },
  {
   "cell_type": "code",
   "execution_count": null,
   "metadata": {},
   "outputs": [],
   "source": [
    "# Step 1: Import required libraries\n",
    "import pandas as pd\n",
    "import numpy as np\n",
    "from sklearn.model_selection import train_test_split\n",
    "from sklearn.ensemble import RandomForestClassifier\n",
    "from sklearn.metrics import accuracy_score\n",
    "import pickle\n",
    "\n",
    "# Step 2: Load the dataset\n",
    "df = pd.read_csv(\"diabetes.csv\")\n",
    "\n",
    "# Step 3: Select the features and target\n",
    "# Let's use only 4 features for compatibility with the GUI\n",
    "X = df[['Glucose', 'BloodPressure', 'BMI', 'Age']]\n",
    "y = df['Outcome']  # 0 = Not Diabetic, 1 = Diabetic\n",
    "\n",
    "# Step 4: Split into training and testing\n",
    "X_train, X_test, y_train, y_test = train_test_split(X, y, test_size=0.2, random_state=42)\n",
    "\n",
    "# Step 5: Train a model (Random Forest for good performance)\n",
    "model = RandomForestClassifier()\n",
    "model.fit(X_train, y_train)\n",
    "\n",
    "# Step 6: Evaluate model (optional but useful)\n",
    "y_pred = model.predict(X_test)\n",
    "accuracy = accuracy_score(y_test, y_pred)\n",
    "print(\"Model accuracy:\", accuracy)\n",
    "\n",
    "# Step 7: Save model using pickle\n",
    "with open(\"Diabetesmodel.pkl\", \"wb\") as f:\n",
    "    pickle.dump(model, f)\n",
    "\n",
    "print(\"Model saved as Diabetesmodel.pkl\")\n"
   ]
  },
  {
   "cell_type": "code",
   "execution_count": 1,
   "metadata": {},
   "outputs": [],
   "source": [
    "import pickle\n",
    "\n",
    "# Load the saved model from the file in binary mode\n",
    "with open(\"Diabetesmodel.pkl\", \"rb\") as f:\n",
    "    model = pickle.load(f)\n",
    "\n",
    "# Now you can use 'model' to make predictions, e.g.:\n",
    "# prediction = model.predict(some_input_data)\n"
   ]
  }
 ],
 "metadata": {
  "colab": {
   "provenance": []
  },
  "kernelspec": {
   "display_name": "Python 3 (ipykernel)",
   "language": "python",
   "name": "python3"
  },
  "language_info": {
   "codemirror_mode": {
    "name": "ipython",
    "version": 3
   },
   "file_extension": ".py",
   "mimetype": "text/x-python",
   "name": "python",
   "nbconvert_exporter": "python",
   "pygments_lexer": "ipython3",
   "version": "3.12.4"
  }
 },
 "nbformat": 4,
 "nbformat_minor": 4
}
